{
  "nbformat": 4,
  "nbformat_minor": 0,
  "metadata": {
    "colab": {
      "name": "SpacyNLP.ipynb",
      "provenance": [],
      "collapsed_sections": []
    },
    "kernelspec": {
      "name": "python3",
      "display_name": "Python 3"
    },
    "language_info": {
      "name": "python"
    }
  },
  "cells": [
    {
      "cell_type": "markdown",
      "metadata": {
        "id": "18yMBTiXcetw"
      },
      "source": [
        "IMPORT LIBRARIES"
      ]
    },
    {
      "cell_type": "code",
      "metadata": {
        "colab": {
          "base_uri": "https://localhost:8080/"
        },
        "id": "sNs1UIs937wB",
        "outputId": "d48b986b-6edd-46b6-9c95-d5029f8910e3"
      },
      "source": [
        "\n",
        "!pip install tweet-preprocessor\n",
        "!pip install tweepy\n",
        "import tweepy\n",
        "import re\n",
        "from tweepy import Stream\n",
        "from tweepy import OAuthHandler\n",
        "from tweepy.streaming import StreamListener\n",
        "import json\n",
        "import pandas as pd\n",
        "import csv\n",
        "from sklearn.linear_model import LogisticRegression\n",
        "from sklearn.naive_bayes import MultinomialNB , GaussianNB\n",
        "from sklearn.ensemble import RandomForestClassifier\n",
        "import pandas as pd\n",
        "import numpy as np\n",
        "import preprocessor as p\n",
        "from sklearn.feature_extraction.text import CountVectorizer,TfidfVectorizer\n",
        "from sklearn.base import TransformerMixin\n",
        "from sklearn.pipeline import Pipeline\n",
        "import string\n",
        "import spacy\n",
        "from sklearn.model_selection import train_test_split\n",
        "from spacy.lang.en.stop_words import STOP_WORDS\n",
        "from spacy.lang.en import English\n",
        "import os\n",
        "import matplotlib.pyplot as plt\n"
      ],
      "execution_count": 84,
      "outputs": [
        {
          "output_type": "stream",
          "text": [
            "Requirement already satisfied: tweet-preprocessor in /usr/local/lib/python3.7/dist-packages (0.6.0)\n",
            "Requirement already satisfied: tweepy in /usr/local/lib/python3.7/dist-packages (3.10.0)\n",
            "Requirement already satisfied: requests[socks]>=2.11.1 in /usr/local/lib/python3.7/dist-packages (from tweepy) (2.23.0)\n",
            "Requirement already satisfied: six>=1.10.0 in /usr/local/lib/python3.7/dist-packages (from tweepy) (1.15.0)\n",
            "Requirement already satisfied: requests-oauthlib>=0.7.0 in /usr/local/lib/python3.7/dist-packages (from tweepy) (1.3.0)\n",
            "Requirement already satisfied: urllib3!=1.25.0,!=1.25.1,<1.26,>=1.21.1 in /usr/local/lib/python3.7/dist-packages (from requests[socks]>=2.11.1->tweepy) (1.24.3)\n",
            "Requirement already satisfied: idna<3,>=2.5 in /usr/local/lib/python3.7/dist-packages (from requests[socks]>=2.11.1->tweepy) (2.10)\n",
            "Requirement already satisfied: chardet<4,>=3.0.2 in /usr/local/lib/python3.7/dist-packages (from requests[socks]>=2.11.1->tweepy) (3.0.4)\n",
            "Requirement already satisfied: certifi>=2017.4.17 in /usr/local/lib/python3.7/dist-packages (from requests[socks]>=2.11.1->tweepy) (2020.12.5)\n",
            "Requirement already satisfied: PySocks!=1.5.7,>=1.5.6; extra == \"socks\" in /usr/local/lib/python3.7/dist-packages (from requests[socks]>=2.11.1->tweepy) (1.7.1)\n",
            "Requirement already satisfied: oauthlib>=3.0.0 in /usr/local/lib/python3.7/dist-packages (from requests-oauthlib>=0.7.0->tweepy) (3.1.0)\n"
          ],
          "name": "stdout"
        }
      ]
    },
    {
      "cell_type": "markdown",
      "metadata": {
        "id": "CguDgZ_qcjPQ"
      },
      "source": [
        "EXTRACT TWEETS "
      ]
    },
    {
      "cell_type": "code",
      "metadata": {
        "colab": {
          "base_uri": "https://localhost:8080/"
        },
        "id": "eLaRQ6wufNCI",
        "outputId": "e6311963-d772-4ea2-a9d6-e6ea48d3d247"
      },
      "source": [
        ""
      ],
      "execution_count": 106,
      "outputs": [
        {
          "output_type": "stream",
          "text": [
            "(1094, 5)\n"
          ],
          "name": "stdout"
        }
      ]
    },
    {
      "cell_type": "code",
      "metadata": {
        "colab": {
          "base_uri": "https://localhost:8080/",
          "height": 202
        },
        "id": "p5IDtDzyxNvU",
        "outputId": "2f904e69-792b-41a4-e6d1-6d20e1eaa54a"
      },
      "source": [
        "df=pd.read_csv('SentimentSample.csv')\n",
        "df=df.drop(df.columns[0],axis=1)\n"
      ],
      "execution_count": 107,
      "outputs": [
        {
          "output_type": "execute_result",
          "data": {
            "text/html": [
              "<div>\n",
              "<style scoped>\n",
              "    .dataframe tbody tr th:only-of-type {\n",
              "        vertical-align: middle;\n",
              "    }\n",
              "\n",
              "    .dataframe tbody tr th {\n",
              "        vertical-align: top;\n",
              "    }\n",
              "\n",
              "    .dataframe thead th {\n",
              "        text-align: right;\n",
              "    }\n",
              "</style>\n",
              "<table border=\"1\" class=\"dataframe\">\n",
              "  <thead>\n",
              "    <tr style=\"text-align: right;\">\n",
              "      <th></th>\n",
              "      <th>id</th>\n",
              "      <th>tweet</th>\n",
              "      <th>place</th>\n",
              "      <th>place_coord_boundaries</th>\n",
              "      <th>location</th>\n",
              "    </tr>\n",
              "  </thead>\n",
              "  <tbody>\n",
              "    <tr>\n",
              "      <th>0</th>\n",
              "      <td>1.379175e+18</td>\n",
              "      <td>Why are hashtags always spelt incorrectly?</td>\n",
              "      <td>en</td>\n",
              "      <td>NaN</td>\n",
              "      <td>London</td>\n",
              "    </tr>\n",
              "    <tr>\n",
              "      <th>1</th>\n",
              "      <td>1.379174e+18</td>\n",
              "      <td>health regulator may restrict shot for younger...</td>\n",
              "      <td>en</td>\n",
              "      <td>NaN</td>\n",
              "      <td>Barquisimeto-Venezuela</td>\n",
              "    </tr>\n",
              "    <tr>\n",
              "      <th>2</th>\n",
              "      <td>1.379172e+18</td>\n",
              "      <td>VIDEO The effects of the four vaccines current...</td>\n",
              "      <td>en</td>\n",
              "      <td>NaN</td>\n",
              "      <td>Somalia</td>\n",
              "    </tr>\n",
              "    <tr>\n",
              "      <th>3</th>\n",
              "      <td>1.379171e+18</td>\n",
              "      <td>s vaccine roll out is the biggest joke in the ...</td>\n",
              "      <td>en</td>\n",
              "      <td>NaN</td>\n",
              "      <td>Alberta, canada</td>\n",
              "    </tr>\n",
              "    <tr>\n",
              "      <th>4</th>\n",
              "      <td>1.379169e+18</td>\n",
              "      <td>My point was that if Germany gets that many ja...</td>\n",
              "      <td>en</td>\n",
              "      <td>NaN</td>\n",
              "      <td>Birmingham</td>\n",
              "    </tr>\n",
              "  </tbody>\n",
              "</table>\n",
              "</div>"
            ],
            "text/plain": [
              "             id  ...                location\n",
              "0  1.379175e+18  ...                  London\n",
              "1  1.379174e+18  ...  Barquisimeto-Venezuela\n",
              "2  1.379172e+18  ...                 Somalia\n",
              "3  1.379171e+18  ...         Alberta, canada\n",
              "4  1.379169e+18  ...              Birmingham\n",
              "\n",
              "[5 rows x 5 columns]"
            ]
          },
          "metadata": {
            "tags": []
          },
          "execution_count": 107
        }
      ]
    },
    {
      "cell_type": "code",
      "metadata": {
        "id": "UAxxTz2I42XV"
      },
      "source": [
        "\n",
        "# Create our list of punctuation marks\n",
        "punctuations = string.punctuation\n",
        "\n",
        "# Create our list of stopwords\n",
        "nlp = spacy.load('en_core_web_sm')\n",
        "stop_words = spacy.lang.en.stop_words.STOP_WORDS\n",
        "df['tweet']=df['tweet'].apply(p.clean)\n",
        "\n",
        "# Load English tokenizer, tagger, parser, NER and word vectors\n",
        "parser = English()\n",
        "\n",
        "# Creating our tokenizer function\n",
        "def spacy_tokenizer(sentence):\n",
        "    # Creating our token object, which is used to create documents with linguistic annotations.\n",
        "    mytokens = parser(sentence)\n",
        "    \n",
        "    # Lemmatizing each token and converting each token into lowercase\n",
        "    mytokens = [ word.lemma_.lower().strip() if word.lemma_ != \"-PRON-\" else word.lower_ for word in mytokens ]\n",
        "\n",
        "    # Removing stop words\n",
        "    mytokens = [ word for word in mytokens if word not in stop_words and word not in punctuations ]\n",
        "\n",
        "    # return preprocessed list of tokens\n",
        "    return mytokens\n"
      ],
      "execution_count": 109,
      "outputs": []
    },
    {
      "cell_type": "code",
      "metadata": {
        "id": "P945OlZY52mE"
      },
      "source": [
        "# Custom transformer using spaCy\n",
        "class predictors(TransformerMixin):\n",
        "    def transform(self, X, **transform_params):\n",
        "        # Cleaning Text\n",
        "        return [clean_text(text) for text in X]\n",
        "\n",
        "    def fit(self, X, y=None, **fit_params):\n",
        "        return self\n",
        "\n",
        "    def get_params(self, deep=True):\n",
        "        return {}\n",
        "\n",
        "# Basic function to clean the text\n",
        "def clean_text(text):\n",
        "    # Removing spaces and converting text into lowercase\n",
        "    return text.strip().lower()"
      ],
      "execution_count": 110,
      "outputs": []
    },
    {
      "cell_type": "code",
      "metadata": {
        "id": "GJkl4F1Q7sYe"
      },
      "source": [
        "bow_vector = CountVectorizer(tokenizer = spacy_tokenizer, ngram_range=(1,2))\n",
        "tfidf_vector = TfidfVectorizer(tokenizer = spacy_tokenizer)\n",
        "\n",
        "X = df['tweet'] # the features we want to analyze\n",
        "ylabels = df['Target'] # the labels, or answers, we want to test against\n",
        "\n",
        "X_train, X_test, y_train, y_test = train_test_split(X, ylabels, test_size=0.3)"
      ],
      "execution_count": 111,
      "outputs": []
    },
    {
      "cell_type": "code",
      "metadata": {
        "id": "6lzSzWbR8zUP"
      },
      "source": [
        "from sklearn import metrics\n",
        "def LR_class():\n",
        "  LR_classifier = LogisticRegression( max_iter=10000)\n",
        "\n",
        "# Create pipeline using Bag of Words\n",
        "  pipe = Pipeline([(\"cleaner\", predictors()),\n",
        "                 ('vectorizer', bow_vector),\n",
        "                 ('classifier', LR_classifier)])\n",
        "\n",
        "  # model generation\n",
        "  pipe.fit(df['tweet'],df['Target'])\n",
        "  predicted = pipe.predict(X_test)\n",
        "  print('Logistic Regression with BOW',metrics.accuracy_score(y_test, predicted))\n",
        "  df_tweepy['Predicted']=predicted\n",
        "  df_tweepy.head()\n",
        "  pipe = Pipeline([(\"cleaner\", predictors()),\n",
        "                   ('vectorizer', tfidf_vector),\n",
        "                   ('classifier', LR_classifier)])\n",
        "  pipe.fit(X_train,y_train)\n",
        "  predicted = pipe.predict(X_test)\n",
        "  print('Logistic Regression with TF-IDF',metrics.accuracy_score(y_test, predicted))\n",
        "\n"
      ],
      "execution_count": 112,
      "outputs": []
    },
    {
      "cell_type": "code",
      "metadata": {
        "colab": {
          "base_uri": "https://localhost:8080/"
        },
        "id": "3aPiwSMMAsWv",
        "outputId": "913336d9-b805-4277-82c1-5a47cbfcfa00"
      },
      "source": [
        "def RandomForest():\n",
        "  rf_model = RandomForestClassifier()\n",
        "  pipe = Pipeline([(\"cleaner\", predictors()),\n",
        "                 ('vectorizer', tfidf_vector),\n",
        "                 ('classifier', rf_model)])\n",
        "  pipe.fit(X_train,y_train)\n",
        "  predicted = pipe.predict(X_test)\n",
        "  print('RF  with TF-IDF', metrics.accuracy_score(predicted, y_test))\n",
        "  # pipe.score(X_test, y_test)\n"
      ],
      "execution_count": 26,
      "outputs": [
        {
          "output_type": "stream",
          "text": [
            "RF  with TF-IDF 0.7289770354906054\n"
          ],
          "name": "stdout"
        }
      ]
    },
    {
      "cell_type": "code",
      "metadata": {
        "id": "Bj9tRBz8bbys"
      },
      "source": [
        "#estimators=[(‘rf’, rf_model),(‘log_reg’,classifier)]\n"
      ],
      "execution_count": 27,
      "outputs": []
    },
    {
      "cell_type": "code",
      "metadata": {
        "colab": {
          "base_uri": "https://localhost:8080/"
        },
        "id": "Xe48pCVFcE-p",
        "outputId": "70c472db-e1b7-4cdd-bc92-40a9c9d27130"
      },
      "source": [
        "# \n",
        "def NaiveBayes():\n",
        "  nb_clf = MultinomialNB()\n",
        "  pipe = Pipeline([(\"cleaner\", predictors()),\n",
        "                 ('vectorizer', tfidf_vector),\n",
        "                 ('classifier', nb_clf)])\n",
        "  pipe.fit(X_train,y_train)\n",
        "  predicted = pipe.predict(X_test)\n",
        "  print('Naive Bayes with TF-IDF', metrics.accuracy_score(predicted, y_test))\n",
        "  pipe = Pipeline([(\"cleaner\", predictors()),\n",
        "                 ('vectorizer', bow_vector),\n",
        "                 ('classifier', nb_clf)])\n",
        "  pipe.fit(X_train,y_train)\n",
        "  predicted = pipe.predict(X_test)\n",
        "  print('Naive  with BOW', metrics.accuracy_score(predicted, y_test))"
      ],
      "execution_count": 28,
      "outputs": [
        {
          "output_type": "stream",
          "text": [
            "Naive Bayes with TF-IDF 0.737286012526096\n",
            "Naive  with BOW 0.7388726513569938\n"
          ],
          "name": "stdout"
        }
      ]
    },
    {
      "cell_type": "code",
      "metadata": {
        "id": "kL4cgXsPpvFH"
      },
      "source": [
        "#Import svm model\n",
        "from sklearn import svm\n",
        "def SVM();\n",
        "#Create a svm Classifier\n",
        "  svm_clf = svm.SVC(kernel='linear') # Linear Kernel\n",
        "\n",
        "  pipe = Pipeline([(\"cleaner\", predictors()),\n",
        "                 ('vectorizer', tfidf_vector),\n",
        "                 ('classifier', svm_clf)])\n",
        "  pipe.fit(X_train,y_train)\n",
        "  print('SVM with TF-IDF',pipe.score(X_test, y_test))\n",
        "\n",
        "  pipe = Pipeline([(\"cleaner\", predictors()),\n",
        "                 ('vectorizer', bow_vector),\n",
        "                 ('classifier', svm_clf)])\n",
        "  pipe.fit(X_train,y_train)\n",
        "  print('SVM with BOW', pipe.score(X_test, y_test))\n"
      ],
      "execution_count": 29,
      "outputs": []
    },
    {
      "cell_type": "code",
      "metadata": {
        "colab": {
          "base_uri": "https://localhost:8080/"
        },
        "id": "Zo9waryUmte7",
        "outputId": "87cacb55-a6c5-4cbe-d1ce-a07ab76d5929"
      },
      "source": [
        "from sklearn.ensemble import  VotingClassifier\n",
        "def EnsembleClass():\n",
        "  #svm_clf = svm.SVC(kernel='linear',probability=False)\n",
        "  nb_clf = MultinomialNB()\n",
        "  LR_classifier = LogisticRegression( max_iter=10000)\n",
        "  rf_clf = RandomForestClassifier()\n",
        "  ensemble= VotingClassifier(estimators=[('lr', nb_clf), ('gnb', LR_classifier),('rf',rf_clf)],voting='soft')\n",
        "  #ensemble = VotingClassifier(estimators, voting=’hard’)\n",
        "  pipe = Pipeline([(\"cleaner\", predictors()),\n",
        "                 ('vectorizer', tfidf_vector),\n",
        "                 ('classifier', ensemble)])\n",
        "\n",
        "  #fit model to training data\n",
        "  pipe.fit(X_train, y_train)\n",
        "  predicted = pipe.predict(X_test)\n",
        "  print('Ensemble  with TF-IDF', metrics.accuracy_score(predicted, y_test))\n",
        "  pipe = Pipeline([(\"cleaner\", predictors()),\n",
        "                 ('vectorizer', bow_vector),\n",
        "                 ('classifier', ensemble)])\n",
        "\n",
        "#fit model to training data\n",
        "  pipe.fit(X_train, y_train)\n",
        "  predicted = pipe.predict(X_test)\n",
        "  print('Ensemble  with BOW', metrics.accuracy_score(predicted, y_test))\n",
        "  # #test our model on the test data\n",
        "  # pipe.score(X_test, y_test)"
      ],
      "execution_count": 30,
      "outputs": [
        {
          "output_type": "stream",
          "text": [
            "Naive  with BOW 0.7497703549060543\n"
          ],
          "name": "stdout"
        }
      ]
    },
    {
      "cell_type": "code",
      "metadata": {
        "id": "GRTSIRnm8Gbh"
      },
      "source": [
        "def special(text):\n",
        "  return re.sub('[^A-Za-z0-9]+', '', text)\n",
        "\n",
        "def tweet_scraper(keyword, file):\n",
        "  #KEY Provided by Twitter to devs\n",
        "  COLS =  ['id','tweet','place', 'place_coord_boundaries','location']\n",
        "  consumer_key = 'l7eh1EjkkwkkzNAFOu9to0u5H'\n",
        "  consumer_secret = 'Zl4SEs3fQbzuf4F8bmVZjdSnrQg4uh9tFymjae0UjmzpkYs8DP'\n",
        "  access_key= '458521290-LQE7dnynUpAjbFhhWWadobhoWrcQNanC8nkcLD0Y'\n",
        "  access_secret = 'hbqTfGtkXyel0OzLu6ZQqbvEIgbp1mryDqRIJFnQHiQBd'\n",
        "  # Creating an OAuth Client connection\n",
        "  auth = tweepy.OAuthHandler(consumer_key, consumer_secret)\n",
        "  auth.set_access_token(access_key, access_secret)\n",
        "  #Using Tweepy API\n",
        "  api = tweepy.API(auth)\n",
        "  \n",
        "\n",
        "#If File already exits then overwrite tweets in same file else declare new \n",
        "  if os.path.exists(file):\n",
        "    df = pd.read_csv(file, header=0)\n",
        "  else:\n",
        "    df = pd.DataFrame(columns=COLS)\n",
        "  #Calling Tweepy API (excluding Retweets )\n",
        "  for page in tweepy.Cursor(api.search, q=keyword+'-filter:retweets',count=200, include_rts=False,wait_on_rate_limit=True).pages(500):\n",
        "    for status in page:\n",
        "      new_entry = []\n",
        "      status = status._json\n",
        "      bad_chars = [';', ':', '!', \"*\"]     \n",
        "      if status['lang'] == 'en':    #Filtering out based on language\n",
        "        #status['text'] = re.sub('[^A-Za-z0-9]+', '',status['text'])\n",
        "        for i in bad_chars :\n",
        "          status['text'] =status['text'].replace(i, '')\n",
        "        status['text'] = re.sub(r'[^\\x00-\\x7F]+',' ', status['text'])\n",
        "        status['text'] = re.sub(r\"won\\'t\", \"will not\", status['text'])\n",
        "        status['text'] = re.sub(r\"can\\'t\", \"can not\", status['text'])\n",
        "        status['text'] = re.sub(r\"cant\", \"can not\", status['text'])\n",
        "        status['text'] = re.sub(r\"y'all\", \"you all\", status['text'])\n",
        "    # general\n",
        "        status['text'] = re.sub(r\"n\\'t\", \" not\", status['text'])\n",
        "        status['text'] = re.sub(r\"\\'re\", \" are\", status['text'])\n",
        "        status['text'] = re.sub(r\"\\'s\", \" is\", status['text'])   #using regular expressions to expand the contractions\n",
        "        status['text'] = re.sub(r\"\\'d\", \" would\", status['text'])\n",
        "        status['text'] = re.sub(r\"\\'ll\", \" will\", status['text'])\n",
        "        status['text'] = re.sub(r\"\\'t\", \" not\", status['text'])\n",
        "        status['text'] = re.sub(r\"\\'ve\", \" have\", status['text'])\n",
        "        status['text'] = re.sub(r\"\\'m\", \" am\", status['text'])\n",
        "        status['text'] = re.sub(r\"\\'scuse\", \" excuse \", status['text'])\n",
        "        \n",
        "        \n",
        "        new_entry += [float((status['id'])),status['text'],status['lang']]\n",
        "        try:\n",
        "          coordinates = [coord for loc in status['place']['bounding_box']['coordinates'] for coord in loc]\n",
        "        except TypeError:\n",
        "          coordinates = None\n",
        "        new_entry.append(coordinates)\n",
        "        \n",
        "        try:\n",
        "          location = status['user']['location']\n",
        "        except TypeError:\n",
        "          location = ''\n",
        "        new_entry.append(location)\n",
        "        single_tweet_df = pd.DataFrame([new_entry], columns=COLS)  \n",
        "        df = df.append(single_tweet_df)\n",
        "        new_entry.clear()\n",
        "  df = df.drop_duplicates(subset=['id'], keep='last')\n",
        "  df_tweepy=df.copy()\n",
        "  df_tweepy.to_csv(keyword+'.csv', mode='a', columns=COLS, index=False, encoding=\"utf-8\")  "
      ],
      "execution_count": 122,
      "outputs": []
    },
    {
      "cell_type": "code",
      "metadata": {
        "id": "t9WnwtOg_82Z"
      },
      "source": [
        "# Create pipeline using Bag of Words\n",
        "pipe = Pipeline([(\"cleaner\", predictors()),\n",
        "                 ('vectorizer', bow_vector),\n",
        "                 ('classifier', LR_classifier)])\n",
        "\n",
        "# model generation\n",
        "pipe.fit(df['tweet'],df['Target'])"
      ],
      "execution_count": null,
      "outputs": []
    },
    {
      "cell_type": "code",
      "metadata": {
        "colab": {
          "base_uri": "https://localhost:8080/",
          "height": 330
        },
        "id": "3ZanTKdA8cej",
        "outputId": "3ad959bb-9eb1-45f4-8595-3def4a63a139"
      },
      "source": [
        "Vaccine_tweets = \"AstraZeneca.csv\"\n",
        "vaccine_keywords = '#AstraZeneca'\n",
        "tweet_scraper(vaccine_keywords, Vaccine_tweets)\n",
        "df_tweepy=pd.DataFrame()\n",
        "df_tweepy=pd.read_csv(vaccine_keywords+'.csv')\n",
        "df_tweepy['tweet']=df_tweepy['tweet'].apply(p.clean)\n",
        "\n",
        "predicted = pipe.predict(df_tweepy['tweet'])\n",
        "\n",
        "df_tweepy['Predicted']=predicted\n",
        "\n",
        "# create figure and axis\n",
        "fig, ax = plt.subplots()\n",
        "# plot histogram\n",
        "ax.hist(df_tweepy['Predicted'])\n",
        "# set title and labels\n",
        "ax.set_title(vaccine_keywords)\n",
        "ax.set_xlabel('Points')\n",
        "ax.set_ylabel('Frequency')"
      ],
      "execution_count": 117,
      "outputs": [
        {
          "output_type": "stream",
          "text": [
            "(1102, 5)\n"
          ],
          "name": "stdout"
        },
        {
          "output_type": "execute_result",
          "data": {
            "text/plain": [
              "Text(0, 0.5, 'Frequency')"
            ]
          },
          "metadata": {
            "tags": []
          },
          "execution_count": 117
        },
        {
          "output_type": "display_data",
          "data": {
            "image/png": "[encoded data removed]",
            "text/plain": [
              "<Figure size 432x288 with 1 Axes>"
            ]
          },
          "metadata": {
            "tags": [],
            "needs_background": "light"
          }
        }
      ]
    },
    {
      "cell_type": "code",
      "metadata": {
        "colab": {
          "base_uri": "https://localhost:8080/",
          "height": 330
        },
        "id": "VIl6P5ZK9uwa",
        "outputId": "9360994a-3549-4b01-e769-c529392a4884"
      },
      "source": [
        "Vaccine_tweets = \"Moderna.csv\"\n",
        "vaccine_keywords = '#Moderna'\n",
        "tweet_scraper(vaccine_keywords, Vaccine_tweets)\n",
        "df_tweepy=pd.read_csv(vaccine_keywords+'.csv')\n",
        "df_tweepy['tweet']=df_tweepy['tweet'].apply(p.clean)\n",
        "\n",
        "predicted = pipe.predict(df_tweepy['tweet'])\n",
        "\n",
        "df_tweepy['Predicted']=predicted\n",
        "\n",
        "# create figure and axis\n",
        "fig, ax = plt.subplots()\n",
        "# plot histogram\n",
        "ax.hist(df_tweepy['Predicted'])\n",
        "# set title and labels\n",
        "ax.set_title(vaccine_keywords)\n",
        "ax.set_xlabel('Points')\n",
        "ax.set_ylabel('Frequency')"
      ],
      "execution_count": 118,
      "outputs": [
        {
          "output_type": "stream",
          "text": [
            "(2682, 5)\n"
          ],
          "name": "stdout"
        },
        {
          "output_type": "execute_result",
          "data": {
            "text/plain": [
              "Text(0, 0.5, 'Frequency')"
            ]
          },
          "metadata": {
            "tags": []
          },
          "execution_count": 118
        },
        {
          "output_type": "display_data",
          "data": {
            "image/png": "[encoded data removed]",
            "text/plain": [
              "<Figure size 432x288 with 1 Axes>"
            ]
          },
          "metadata": {
            "tags": [],
            "needs_background": "light"
          }
        }
      ]
    },
    {
      "cell_type": "code",
      "metadata": {
        "id": "GJkMrn6j93vU"
      },
      "source": [
        "Vaccine_tweets = \"Sputnik.csv\"\n",
        "vaccine_keywords = '#Sputnik'\n",
        "tweet_scraper(vaccine_keywords, Vaccine_tweets)\n",
        "df_tweepy=pd.read_csv(vaccine_keywords+'.csv')\n",
        "df_tweepy['tweet']=df_tweepy['tweet'].apply(p.clean)\n",
        "\n",
        "predicted = pipe.predict(df_tweepy['tweet'])\n",
        "\n",
        "df_tweepy['Predicted']=predicted\n",
        "\n",
        "# create figure and axis\n",
        "fig, ax = plt.subplots()\n",
        "# plot histogram\n",
        "ax.hist(df_tweepy['Predicted'])\n",
        "# set title and labels\n",
        "ax.set_title(vaccine_keywords)\n",
        "ax.set_xlabel('Points')\n",
        "ax.set_ylabel('Frequency')\n"
      ],
      "execution_count": null,
      "outputs": []
    },
    {
      "cell_type": "code",
      "metadata": {
        "colab": {
          "base_uri": "https://localhost:8080/",
          "height": 330
        },
        "id": "UhZ7ABMkAzEE",
        "outputId": "ac01ae03-3a6c-4b52-c64d-9518ad633db9"
      },
      "source": [
        "Vaccine_tweets = \"Pfizer.csv\"\n",
        "vaccine_keywords = '#Pfizer'\n",
        "tweet_scraper(vaccine_keywords, Vaccine_tweets)\n",
        "df_tweepy=pd.read_csv(vaccine_keywords+'.csv')\n",
        "df_tweepy['tweet']=df_tweepy['tweet'].apply(p.clean)\n",
        "\n",
        "predicted = pipe.predict(df_tweepy['tweet'])\n",
        "\n",
        "df_tweepy['Predicted']=predicted\n",
        "\n",
        "# create figure and axis\n",
        "fig, ax = plt.subplots()\n",
        "# plot histogram\n",
        "ax.hist(df_tweepy['Predicted'])\n",
        "# set title and labels\n",
        "ax.set_title(vaccine_keywords)\n",
        "ax.set_xlabel('Points')\n",
        "ax.set_ylabel('Frequency')\n"
      ],
      "execution_count": 121,
      "outputs": [
        {
          "output_type": "stream",
          "text": [
            "(2383, 5)\n"
          ],
          "name": "stdout"
        },
        {
          "output_type": "execute_result",
          "data": {
            "text/plain": [
              "Text(0, 0.5, 'Frequency')"
            ]
          },
          "metadata": {
            "tags": []
          },
          "execution_count": 121
        },
        {
          "output_type": "display_data",
          "data": {
            "image/png": "[encoded data removed]",
            "text/plain": [
              "<Figure size 432x288 with 1 Axes>"
            ]
          },
          "metadata": {
            "tags": [],
            "needs_background": "light"
          }
        }
      ]
    },
    {
      "cell_type": "code",
      "metadata": {
        "id": "ojcH7gQ4BGJG"
      },
      "source": [
        ""
      ],
      "execution_count": null,
      "outputs": []
    }
  ]
}